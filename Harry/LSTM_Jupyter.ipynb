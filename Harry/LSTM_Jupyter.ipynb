{
 "cells": [
  {
   "cell_type": "code",
   "execution_count": null,
   "metadata": {
    "collapsed": true
   },
   "outputs": [],
   "source": [
    "import numpy as np\n",
    "import pandas as pd\n",
    "import neptune\n",
    "import os\n",
    "import datetime"
   ]
  },
  {
   "cell_type": "code",
   "execution_count": null,
   "metadata": {},
   "outputs": [],
   "source": [
    "num_bands = 40\n",
    "timesteps = 20\n",
    "lookahead = 5\n",
    "\n",
    "d1_col = 6              # First day column\n",
    "n_days = 100            # Number of days to analyse\n",
    "\n",
    "filename = '../data/'   # Data directory\n",
    "\n",
    "state = 'CA'            # Data subdivision to analyse, leave blank study entire dataset\n",
    "\n",
    "if state:\n",
    "    filename += '%s/%s_data.csv' % (state, state)\n",
    "else:\n",
    "    filename += 'sales_train_validation.csv'\n",
    "\n",
    "df = pd.read_csv(filename, index_col=0)                 # Read data\n",
    "calendar_df = pd.read_csv('../data/calendar.csv')       # Read the calendar csv for notable dates"
   ]
  }
 ],
 "metadata": {
  "kernelspec": {
   "display_name": "Python 2",
   "language": "python",
   "name": "python2"
  },
  "language_info": {
   "codemirror_mode": {
    "name": "ipython",
    "version": 2.0
   },
   "file_extension": ".py",
   "mimetype": "text/x-python",
   "name": "python",
   "nbconvert_exporter": "python",
   "pygments_lexer": "ipython2",
   "version": "2.7.6"
  }
 },
 "nbformat": 4,
 "nbformat_minor": 0
}